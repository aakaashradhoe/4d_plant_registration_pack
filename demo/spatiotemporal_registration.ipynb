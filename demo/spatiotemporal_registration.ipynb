{
 "cells": [
  {
   "cell_type": "markdown",
   "metadata": {},
   "source": [
    "# 4D Registration of Plant Point Clouds"
   ]
  },
  {
   "cell_type": "markdown",
   "metadata": {},
   "source": [
    "In this notebook, we demonstrate the different steps involved in registering 3d point clouds of plants acquired over a period of time. The main steps include:\n",
    "\n",
    "1. Computing a skeleton structure explointing the semantics (stem and leave information) of the plant.\n",
    "\n",
    "2. Estimating correspondences between skeleton nodes of the plant using a hidden Markov model formulation.\n",
    "\n",
    "3. Computing the non-rigid registration parameters between temporally separeated skeleton structures.\n",
    "\n",
    "4. Transferring the registration parameters to the complete plant point cloud.\n",
    "\n",
    "We also show the 4d registration approach on example scans of a maize and tomato plant. "
   ]
  },
  {
   "cell_type": "code",
   "execution_count": null,
   "metadata": {},
   "outputs": [],
   "source": [
    "%matplotlib inline\n",
    "# External modules\n",
    "import numpy as np\n",
    "import open3d as o3d\n",
    "from sklearn.cluster import DBSCAN\n",
    "from joblib import load\n",
    "import matplotlib.pyplot as plt\n",
    "\n",
    "# Our modules\n",
    "import visualize as vis\n",
    "import somSkeleton as som\n",
    "import skeleton as skel\n",
    "import skeleton_matching as skm\n",
    "import non_rigid_registration as nrr\n",
    "from iterative_registration import iterative_registration\n",
    "import pointcloud as pcd\n",
    "import utils"
   ]
  },
  {
   "cell_type": "markdown",
   "metadata": {},
   "source": [
    "## 1. Estimating skeleton structure through the plant semantics \n",
    "\n",
    "To compute the skeleton structure, we perform the following steps:\n",
    "\n",
    "- Train an SVM model for classifying leaves vs stem points. This is done in a offline manner by providing ground truth labels for some plants in the dataset. \n",
    "- Infer the semantics (stem vs leaf points for the input point cloud)\n",
    "- Cluster the points into different organs (individual instances of leaves and stem) using the DBSCAN algorithm\n",
    "- Extract the skeleton structure using a self-organizing map (SOM) approach which uses the segmented organ information"
   ]
  },
  {
   "cell_type": "code",
   "execution_count": null,
   "metadata": {},
   "outputs": [],
   "source": [
    "# setting input point cloud\n",
    "species = 'maize'\n",
    "day = '03-13'\n",
    "model_path = './models/{}_svm.joblib'\n",
    "\n",
    "# loading svm model\n",
    "clf = load(model_path.format(species))"
   ]
  },
  {
   "cell_type": "code",
   "execution_count": null,
   "metadata": {},
   "outputs": [],
   "source": [
    "# loading point cloud and computing fpfh\n",
    "path = './data/{}/{}.ply'\n",
    "P = o3d.io.read_point_cloud(path.format(species, day))\n",
    "P = P.voxel_down_sample(voxel_size=0.5)\n",
    "\n",
    "fpfh, xyz = utils.computeHistograms(P)\n",
    "features = np.column_stack((fpfh, xyz))\n",
    "\n",
    "fh = plt.figure()\n",
    "vis.plot_pointcloud(fh, xyz, color='gray')\n",
    "plt.title('Input point cloud scan')"
   ]
  },
  {
   "cell_type": "code",
   "execution_count": null,
   "metadata": {},
   "outputs": [],
   "source": [
    "# stem vs leaf classification\n",
    "predict = clf.predict(features)\n",
    "data = np.column_stack((xyz, predict))\n",
    "stem = data[np.where(data[:, -1] == 0)]\n",
    "leaf = data[np.where(data[:, -1] == 1)]"
   ]
  },
  {
   "cell_type": "code",
   "execution_count": null,
   "metadata": {},
   "outputs": [],
   "source": [
    "# clustering\n",
    "dbscan = DBSCAN(min_samples=2, p=0).fit(leaf[:, :-1])\n",
    "leaves, labels = utils.refineClustering(leaf[:, :-1], dbscan.labels_)\n",
    "organs = utils.prepare4Skel(stem, leaves) \n",
    "\n",
    "fh = plt.figure()\n",
    "vis.plot_semantic_pointcloud(fh, organs)\n",
    "plt.title('Sematic classification of plant organs')"
   ]
  },
  {
   "cell_type": "code",
   "execution_count": null,
   "metadata": {},
   "outputs": [],
   "source": [
    "# skeletonization\n",
    "cwise_skeleton_nodes = som.getSkeleton(organs)\n",
    "graph = som.getGraph(cwise_skeleton_nodes, xyz)\n",
    "\n",
    "# convert this graph to skeleton class\n",
    "S = utils.convert_to_skeleton_class(cwise_skeleton_nodes, graph)\n",
    "\n",
    "# plot skeleton\n",
    "fh = plt.figure()\n",
    "vis.plot_skeleton(fh, S)\n",
    "plt.title('Skeleton structure of the plant')"
   ]
  },
  {
   "cell_type": "markdown",
   "metadata": {},
   "source": [
    "## 2. Estimating correspondences between skeleton structures \n",
    "\n",
    "Here we compute the correspondences (matches) between skeleton structures of the plant from consecutive scans. This estimation is based on a hidden Markov model formulation which encodes information about the geometric distances and the sematics of the skelton nodes."
   ]
  },
  {
   "cell_type": "code",
   "execution_count": null,
   "metadata": {},
   "outputs": [],
   "source": [
    "# load input data\n",
    "species = 'maize'\n",
    "day1 = '03-13'\n",
    "day2 = '03-14'\n",
    "skel_path = './data/{}/{}.graph.txt'\n",
    "pc_path = './data/{}/{}.xyz'\n",
    "\n",
    "# Day 1\n",
    "S1 = skel.Skeleton.read_graph(skel_path.format(species, day1))\n",
    "P1 = pcd.load_pointcloud(pc_path.format(species, day1))\n",
    "\n",
    "# Day 2\n",
    "S2 = skel.Skeleton.read_graph(skel_path.format(species, day2))\n",
    "P2 = pcd.load_pointcloud(pc_path.format(species, day2))"
   ]
  },
  {
   "cell_type": "code",
   "execution_count": null,
   "metadata": {},
   "outputs": [],
   "source": [
    "\n",
    "\n",
    "# set parameters for matching step\n",
    "match_params = {'weight_e': 0.01,\n",
    "                'match_ends_to_ends': True,\n",
    "                'use_labels' : False,\n",
    "                'label_penalty' : 1,\n",
    "                'debug': False}\n",
    "\n",
    "\n",
    "# perform matching\n",
    "corres = skm.skeleton_matching(S1, S2, match_params)\n",
    " \n",
    "# visualize results\n",
    "fh = plt.figure()\n",
    "vis.plot_skeleton(fh, S1,'b')\n",
    "vis.plot_skeleton(fh, S2,'r')\n",
    "vis.plot_skeleton_correspondences(fh, S1, S2, corres) \n",
    "plt.title(\"Skeleton matching results\")"
   ]
  },
  {
   "cell_type": "markdown",
   "metadata": {},
   "source": [
    "## 3. Estimating the Non-rigid Registration between the skeleton pair\n",
    "\n",
    "In this step, we estimate the non-rigid registration parameters between the skeleton pair. The non-rigidity is modeled by an affine transformation attached to each node of the source skeleton. Here, we estimate these parameters (12 per node) using a non-linear least squares formulation which encodes the distance between the matching nodes on the two skeletons, closeness of the affine rotation to a true rotation, as well as regularization term which ensures smooth deformation.\n",
    "\n",
    "Here the blue skeleton is the source skeleton, the red one is the target skeleton and the black skeleton is obtained by applying the estimated\n",
    "registration params on the source (blue) skeleton."
   ]
  },
  {
   "cell_type": "code",
   "execution_count": null,
   "metadata": {},
   "outputs": [],
   "source": [
    "# set parameters for registration\n",
    "reg_params = {'num_iter': 20,\n",
    "          'w_rot' : 100,\n",
    "          'w_reg' : 100,\n",
    "          'w_corresp' : 1,\n",
    "          'w_fix' : 1,\n",
    "          'fix_idx' : [],\n",
    "          'R_fix' : [np.eye(3)],\n",
    "          't_fix' : [np.zeros((3,1))],\n",
    "          'use_robust_kernel' : True,\n",
    "          'robust_kernel_type' : 'cauchy',\n",
    "          'robust_kernel_param' : 2,\n",
    "          'debug' : False}\n",
    "\n",
    "# call register function\n",
    "T12 = nrr.register_skeleton(S1, S2, corres, reg_params)\n",
    "\n",
    "# %% Apply registration params to skeleton\n",
    "S2_hat = nrr.apply_registration_params_to_skeleton(S1, T12)\n",
    "\n",
    "# visualize registration results\n",
    "fh = plt.figure()\n",
    "vis.plot_skeleton(fh, S1,'b');\n",
    "vis.plot_skeleton(fh, S2_hat,'k');\n",
    "vis.plot_skeleton(fh, S2,'r');\n",
    "vis.plot_skeleton_correspondences(fh, S2_hat, S2, corres)\n",
    "plt.title(\"Skeleton registration results\")"
   ]
  },
  {
   "cell_type": "markdown",
   "metadata": {},
   "source": [
    "## 4. Transferring the registration parameters to the complete plant point cloud\n",
    "\n",
    "Once the registration parameters have been computed between the skeleton nodes, we then transfer these deformation to the entire source point cloud."
   ]
  },
  {
   "cell_type": "code",
   "execution_count": null,
   "metadata": {},
   "outputs": [],
   "source": [
    "# deform source pointcloud\n",
    "P1_ds = pcd.downsample_pointcloud(P1, 3)\n",
    "P2_ds = pcd.downsample_pointcloud(P2, 3)\n",
    "P1_deformed = pcd.deform_pointcloud(P1_ds, T12, corres, S1, S2)\n",
    "\n",
    "fh = plt.figure()\n",
    "vis.plot_skeleton(fh, S1,'b')\n",
    "vis.plot_skeleton(fh, S2,'r')\n",
    "vis.plot_pointcloud(fh, P2,'r')\n",
    "vis.plot_pointcloud(fh, P1_deformed,'b')\n",
    "vis.plot_skeleton_correspondences(fh, S1, S2, corres, 'g')"
   ]
  },
  {
   "cell_type": "markdown",
   "metadata": {},
   "source": [
    "## Iterative Registration Procedure\n",
    "\n",
    "Finally, we perform the skeleton matching and the non-rigid registration of the skeltons in an iterative manner. This improves the registration results by estimating more correspondences between the skeltons by using the latest registration estimates. Note that the iterative process results in a larger number of correspondences as compared to a single skeleton matching step."
   ]
  },
  {
   "cell_type": "code",
   "execution_count": null,
   "metadata": {},
   "outputs": [],
   "source": [
    "from iterative_registration import iterative_registration\n",
    "\n",
    "# iterative procedure params\n",
    "params = {'num_iter' : 5,\n",
    "          'visualize': True,\n",
    "          'match_params': match_params,\n",
    "          'reg_params': reg_params}\n",
    "\n",
    "# call register function\n",
    "T12, corres = iterative_registration(S1, S2, params)\n",
    "\n",
    "# %% Apply registration params to skeleton\n",
    "S2_hat = nrr.apply_registration_params_to_skeleton(S1, T12)\n",
    "\n",
    "# %% visualize registration results\n",
    "fh = plt.figure()\n",
    "vis.plot_skeleton(fh, S1,'b');\n",
    "vis.plot_skeleton(fh, S2_hat,'k');\n",
    "vis.plot_skeleton(fh, S2,'r');\n",
    "vis.plot_skeleton_correspondences(fh, S2_hat, S2, corres)\n",
    "plt.title(\"Skeleton registration results\")\n",
    "\n",
    "# deform complete pointcloud\n",
    "P1_ds = pcd.downsample_pointcloud(P1, 3)\n",
    "P2_ds = pcd.downsample_pointcloud(P2, 3)\n",
    "P1_deformed = pcd.deform_pointcloud(P1_ds, T12, corres, S1, S2)\n",
    "\n",
    "fh = plt.figure()\n",
    "vis.plot_skeleton(fh, S1,'b')\n",
    "vis.plot_skeleton(fh, S2,'r')\n",
    "vis.plot_pointcloud(fh, P2,'r')\n",
    "vis.plot_pointcloud(fh, P1_deformed,'b')\n",
    "vis.plot_skeleton_correspondences(fh, S1, S2, corres, 'g')"
   ]
  },
  {
   "cell_type": "markdown",
   "metadata": {},
   "source": [
    "## Tomato plant example\n",
    "\n",
    "Now, we show the overall registration procedure on a pair of tomato scans."
   ]
  },
  {
   "cell_type": "code",
   "execution_count": null,
   "metadata": {},
   "outputs": [],
   "source": [
    "# load input data\n",
    "species = 'tomato'\n",
    "day1 = '03-05'\n",
    "day2 = '03-06'\n",
    "skel_path = './data/{}/{}.graph.txt'\n",
    "pc_path = './data/{}/{}.xyz'\n",
    "\n",
    "# Day 1\n",
    "S1 = skel.Skeleton.read_graph(skel_path.format(species, day1))\n",
    "P1 = pcd.load_pointcloud(pc_path.format(species, day1))\n",
    "\n",
    "# Day 2\n",
    "S2 = skel.Skeleton.read_graph(skel_path.format(species, day2))\n",
    "P2 = pcd.load_pointcloud(pc_path.format(species, day2))\n",
    "\n",
    "# iterative procedure params\n",
    "match_params = {'weight_e': 0.01,\n",
    "                'match_ends_to_ends': True,\n",
    "                'use_labels' : False,\n",
    "                'label_penalty' : 1,\n",
    "                'debug': False}\n",
    "\n",
    "reg_params = {'num_iter': 20,\n",
    "          'w_rot' : 100,\n",
    "          'w_reg' : 100,\n",
    "          'w_corresp' : 1,\n",
    "          'w_fix' : 1,\n",
    "          'fix_idx' : [],\n",
    "          'R_fix' : [np.eye(3)],\n",
    "          't_fix' : [np.zeros((3,1))],\n",
    "          'use_robust_kernel' : True,\n",
    "          'robust_kernel_type' : 'cauchy',\n",
    "          'robust_kernel_param' : 2,\n",
    "          'debug' : False}\n",
    "\n",
    "params = {'num_iter' : 5,\n",
    "          'visualize': True,\n",
    "          'match_params': match_params,\n",
    "          'reg_params': reg_params}\n",
    "\n",
    "# call iterative registration function\n",
    "T12, corres = iterative_registration(S1, S2, params)\n",
    "\n",
    "# Apply registration params to skeleton\n",
    "S2_hat = nrr.apply_registration_params_to_skeleton(S1, T12)\n",
    "\n",
    "# %% visualize registration results\n",
    "fh = plt.figure()\n",
    "vis.plot_skeleton(fh, S1,'b');\n",
    "vis.plot_skeleton(fh, S2_hat,'k');\n",
    "vis.plot_skeleton(fh, S2,'r');\n",
    "vis.plot_skeleton_correspondences(fh, S2_hat, S2, corres)\n",
    "plt.title(\"Skeleton registration results\")\n",
    "\n",
    "# deform complete pointcloud\n",
    "P1_ds = pcd.downsample_pointcloud(P1, 3)\n",
    "P2_ds = pcd.downsample_pointcloud(P2, 3)\n",
    "P1_deformed = pcd.deform_pointcloud(P1_ds, T12, corres, S1, S2)\n",
    "\n",
    "fh = plt.figure()\n",
    "vis.plot_skeleton(fh, S1,'b')\n",
    "vis.plot_skeleton(fh, S2,'r')\n",
    "vis.plot_pointcloud(fh, P2,'r')\n",
    "vis.plot_pointcloud(fh, P1_deformed,'b')\n",
    "vis.plot_skeleton_correspondences(fh, S1, S2, corres, 'g')"
   ]
  }
 ],
 "metadata": {
  "kernelspec": {
   "display_name": "plos3",
   "language": "python",
   "name": "plos3"
  },
  "language_info": {
   "codemirror_mode": {
    "name": "ipython",
    "version": 3
   },
   "file_extension": ".py",
   "mimetype": "text/x-python",
   "name": "python",
   "nbconvert_exporter": "python",
   "pygments_lexer": "ipython3",
   "version": "3.6.9"
  }
 },
 "nbformat": 4,
 "nbformat_minor": 4
}
